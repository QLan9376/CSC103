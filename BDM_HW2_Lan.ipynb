{
  "nbformat": 4,
  "nbformat_minor": 0,
  "metadata": {
    "colab": {
      "name": "BDM_HW2_Lan",
      "provenance": [],
      "collapsed_sections": [],
      "include_colab_link": true
    },
    "kernelspec": {
      "name": "python3",
      "display_name": "Python 3"
    }
  },
  "cells": [
    {
      "cell_type": "markdown",
      "metadata": {
        "id": "view-in-github",
        "colab_type": "text"
      },
      "source": [
        "<a href=\"https://colab.research.google.com/github/QLan9376/CSC103/blob/main/BDM_HW2_Lan.ipynb\" target=\"_parent\"><img src=\"https://colab.research.google.com/assets/colab-badge.svg\" alt=\"Open In Colab\"/></a>"
      ]
    },
    {
      "cell_type": "markdown",
      "metadata": {
        "id": "AsSA0dIMNznB"
      },
      "source": [
        "# Homework 2 - MapReduce\n",
        "\n",
        "There is only one task in this homework. You are asked to implement the Social Triangle example discussed in class. In particular, given the email dataset, please list all \"reciprocal\" relationships in the company. Recall that:\n",
        "\n",
        "If A emails B and B emails A, then A and B is *reciprocal*.\n",
        "\n",
        "If A emails B but B doesn’t email A, then A and B is *directed*.\n",
        "\n",
        "**Dataset:** We will use a subset of the open [Enron Email Dataset](https://www.cs.cmu.edu/~./enron/ \"Enron Email Dataset\"), which contains approximately 10,000 simplified email headers from the Enron Corporation. A subset of the data is available as **enron_mails_small.csv** as part of this notebook. The file contains 3 columns *Date*, *From*, and *To*. Their description is as follows:\n",
        "\n",
        "|Column name|Description|\n",
        "|--|--|\n",
        "|Date |The date and time of the email, in the format YYYY-MM-DD hh-mm-ss, <br />e.g. \"1998-10-30 07:43:00\" |\n",
        "|From |The sender email address, <br />e.g. \"mark.taylor@enron.com\" |\n",
        "|To | A list of recipients' email addresses separated by semicolons ';', <br />e.g. \"jennifer.fraser@enron.com;jeffrey.hodge@enron.com\" |\n",
        "\n",
        "Note that, we only care about users employed by Enron, i.e. only relationships where email addresses end with *'@enron.com'*.\n",
        "\n",
        "The expected output is also provided below. For each reciprocal relationship, please output a tuple consisting of two strings. The first one is always **'reciprocal'**. And the second one is a string showing the name of the two person in the following format: **'Jane Doe : John Doe'**. The names should be presented in the lexical order, i.e. there will not be a 'John Doe : Jane Doe' since 'Jane' is ordered before 'John.\n",
        "\n",
        "Though the dataset only contains email addresses, not actual names, we're assuming that the email aliases were created based on their name. For example:\n",
        "\n",
        "|Email Address|Converted Name|\n",
        "|--|--|\n",
        "|mark.taylor@enron.com|Mark Taylor|\n",
        "|alan.aronowitz@enron.com|Alan Aronowitz|\n",
        "|marc.r.cutler@enron.com|Marc R Cutler|\n",
        "|hugh@enron.com|Hugh|"
      ]
    },
    {
      "cell_type": "code",
      "metadata": {
        "id": "ozEACpiCPhw4",
        "colab": {
          "base_uri": "https://localhost:8080/"
        },
        "outputId": "6e7759ca-4a8f-49a5-d793-9037c6c69c4b"
      },
      "source": [
        "!pip install mrjob\n",
        "!gdown --id 1sq4-zXn2Z82mdLSBBegEgsUsfqtgza-C -O mapreduce.py\n",
        "!gdown --id 1It6GP8O2JqkmUtZKbYp1kpwpuwOXlLps -O enron_mails_small.csv"
      ],
      "execution_count": 27,
      "outputs": [
        {
          "output_type": "stream",
          "name": "stdout",
          "text": [
            "Requirement already satisfied: mrjob in /usr/local/lib/python3.7/dist-packages (0.7.4)\n",
            "Requirement already satisfied: PyYAML>=3.10 in /usr/local/lib/python3.7/dist-packages (from mrjob) (3.13)\n",
            "Downloading...\n",
            "From: https://drive.google.com/uc?id=1sq4-zXn2Z82mdLSBBegEgsUsfqtgza-C\n",
            "To: /content/mapreduce.py\n",
            "100% 2.66k/2.66k [00:00<00:00, 4.17MB/s]\n",
            "Downloading...\n",
            "From: https://drive.google.com/uc?id=1It6GP8O2JqkmUtZKbYp1kpwpuwOXlLps\n",
            "To: /content/enron_mails_small.csv\n",
            "100% 857k/857k [00:00<00:00, 4.02MB/s]\n"
          ]
        }
      ]
    },
    {
      "cell_type": "markdown",
      "metadata": {
        "id": "mGLN0vu0_xOI"
      },
      "source": [
        "## Task 1 (10 pts)\n",
        "You must complete the **MRFindReciprocal** class below (which is inherited from MRJob), and your code must run with the **mapreduce.py** package **mr.runJob()** as provided."
      ]
    },
    {
      "cell_type": "code",
      "metadata": {
        "colab": {
          "base_uri": "https://localhost:8080/"
        },
        "id": "kJcCBVWAVluX",
        "outputId": "fe5a7a0e-0b6a-4c3d-b069-805317b5e52e"
      },
      "source": [
        "import csv\n",
        "import mapreduce as mr\n",
        "from mrjob.job import MRJob\n",
        "from mrjob.step import MRStep\n",
        "\n",
        "################################\n",
        "### YOUR WORK SHOULD BE HERE ###\n",
        "################################\n",
        "class MRFindReciprocal(MRJob):\n",
        "  '''\n",
        "  PLEASE COMPLETE THIS CLASS. THIS SHOULD BE THE ONLY PLACE THAT YOU CAN EDIT.\n",
        "  THE INPUT OF YOUR MAPREDUCE JOB WOULD BE LINE OF TEXT WITHOUT '\\n'.\n",
        "  '''\n",
        "  pass\n",
        "  def mapper1(self, _, line):\n",
        "\n",
        "    values = line.strip().split(',')\n",
        "    from_name = values[1]\n",
        "    To_name = values[2]\n",
        "    from_name_list = from_name.split(',')\n",
        "\n",
        "    for sender in from_name_list :\n",
        "      if \"@enron.com\" in sender:\n",
        "        from_name = sender.split('@')[0] \n",
        "        from_fname = from_name.split('.')[0] \n",
        "        from_lname = from_name.split('.')[-1]\n",
        "      #from_lname= from_name.split('.')] \n",
        "        from_name = from_fname.capitalize()  +\" \"+ from_lname.capitalize() \n",
        "        To_list = To_name.split(';')\n",
        "        for item in To_list: \n",
        "          if \"@enron.com\" in item :\n",
        "            To_name = item.split('@')[0] \n",
        "            To_name_fname  = To_name.split('.')[0]\n",
        "            To_name_lname = To_name.split('.')[-1]\n",
        "        #To_name_lname= To_name.split('.')[1]\n",
        "            To_name =To_name_fname.capitalize()  +\" \"+ To_name_lname.capitalize() \n",
        "            yield ([from_name,To_name])\n",
        "\n",
        "  def reducer1(self, from_name,To_name):\n",
        "    yield (from_name, set(To_name))\n",
        "\n",
        "  def __init__(self,args=[]):\n",
        "    self.storage = {}\n",
        "\n",
        "  def mapper2(self , sender , recivers):\n",
        "    self.storage[sender] = recivers\n",
        "    #dictionary.values() = recivers\n",
        "    for reciver in recivers : \n",
        "      yield (reciver,sender)\n",
        "\n",
        "  def reducer2(self,reciver,sender):\n",
        "    if reciver in self.storage :\n",
        "      setone_settwo = (set(sender),self.storage[reciver])\n",
        "      yield (reciver, setone_settwo)\n",
        "   # else:\n",
        "    #  yield (reciver, set(sender) , [])\n",
        "\n",
        "  def mapper3(self,reciver,setone_settwo):\n",
        "    setone , settwo = setone_settwo\n",
        "\n",
        "    for y in setone:\n",
        "      if y in settwo:\n",
        "       # print('reciprocal', reciver+''+ y)\n",
        "        tuple =(reciver, y)\n",
        "        first , second = sorted(tuple)\n",
        "        yield 'reciprocal', first + ':' + second\n",
        "       #yield (reciver+':'+ y)\n",
        "  \n",
        "   \n",
        "  def reducer3(slf ,Recep, str_y1_y2 ):\n",
        "   # str_y1_y2 = list(str_y1_y2)\n",
        "   \n",
        "    str_y1_y2 = sorted(set(str_y1_y2))\n",
        "    \n",
        "    for any in str_y1_y2:\n",
        "      first, second = any.split(':')\n",
        "      if first != second :\n",
        "        yield 'reciprocal',(any)\n",
        "\n",
        "  def steps(self):\n",
        "      return [MRStep(mapper=self.mapper1, reducer=self.reducer1),\n",
        "              MRStep(mapper_init= self.__init__ , mapper=self.mapper2, reducer=self.reducer2),\n",
        "              MRStep(mapper=self.mapper3 ,reducer=self.reducer3)\n",
        "      ]\n",
        "\n",
        "###################################\n",
        "### DO NOT EDIT BELOW THIS LINE ###\n",
        "###################################\n",
        "job = MRFindReciprocal(args=[])\n",
        "with open('enron_mails_small.csv', 'r') as fi:\n",
        "  next(fi)\n",
        "  output = list(mr.runJob(enumerate(map(lambda x: x.strip(), fi)), job))\n",
        "\n",
        "print(len(output))\n",
        "output"
      ],
      "execution_count": 28,
      "outputs": [
        {
          "output_type": "stream",
          "name": "stdout",
          "text": [
            "35\n"
          ]
        },
        {
          "output_type": "execute_result",
          "data": {
            "text/plain": [
              "[('reciprocal', 'Brenda Whitehead:Elizabeth Sager'),\n",
              " ('reciprocal', 'Carol Clair:Debra Perlingiere'),\n",
              " ('reciprocal', 'Carol Clair:Mark Taylor'),\n",
              " ('reciprocal', 'Carol Clair:Richard Sanders'),\n",
              " ('reciprocal', 'Carol Clair:Sara Shackleton'),\n",
              " ('reciprocal', 'Carol Clair:Tana Jones'),\n",
              " ('reciprocal', 'Debra Perlingiere:Kevin Ruscitti'),\n",
              " ('reciprocal', 'Drew Fossum:Susan Scott'),\n",
              " ('reciprocal', 'Elizabeth Sager:Janette Elbertson'),\n",
              " ('reciprocal', 'Elizabeth Sager:Mark Haedicke'),\n",
              " ('reciprocal', 'Elizabeth Sager:Mark Taylor'),\n",
              " ('reciprocal', 'Elizabeth Sager:Richard Sanders'),\n",
              " ('reciprocal', 'Eric Bass:Susan Scott'),\n",
              " ('reciprocal', 'Fletcher Sturm:Greg Whalley'),\n",
              " ('reciprocal', 'Fletcher Sturm:Sally Beck'),\n",
              " ('reciprocal', 'Gerald Nemec:Susan Scott'),\n",
              " ('reciprocal', 'Grant Masson:Vince Kaminski'),\n",
              " ('reciprocal', 'Greg Whalley:Richard Sanders'),\n",
              " ('reciprocal', 'Janette Elbertson:Mark Taylor'),\n",
              " ('reciprocal', 'Janette Elbertson:Richard Sanders'),\n",
              " ('reciprocal', 'Liz Taylor:Mark Haedicke'),\n",
              " ('reciprocal', 'Mark Haedicke:Mark Taylor'),\n",
              " ('reciprocal', 'Mark Haedicke:Michelle Cash'),\n",
              " ('reciprocal', 'Mark Haedicke:Richard Sanders'),\n",
              " ('reciprocal', 'Mark Haedicke:Twanda Sweet'),\n",
              " ('reciprocal', 'Mark Taylor:Sara Shackleton'),\n",
              " ('reciprocal', 'Mark Taylor:Tana Jones'),\n",
              " ('reciprocal', 'Michelle Cash:Twanda Sweet'),\n",
              " ('reciprocal', 'Pinnamaneni Krishnarao:Vince Kaminski'),\n",
              " ('reciprocal', 'Richard Sanders:Sara Shackleton'),\n",
              " ('reciprocal', 'Rosalee Fleming:Steven Kean'),\n",
              " ('reciprocal', 'Sara Shackleton:Tana Jones'),\n",
              " ('reciprocal', 'Shirley Crenshaw:Vince Kaminski'),\n",
              " ('reciprocal', 'Stinson Gibner:Vince Kaminski'),\n",
              " ('reciprocal', 'Vasant Shanbhogue:Vince Kaminski')]"
            ]
          },
          "metadata": {},
          "execution_count": 28
        }
      ]
    },
    {
      "cell_type": "markdown",
      "metadata": {
        "id": "w-_NLdtadelf"
      },
      "source": [
        ""
      ]
    },
    {
      "cell_type": "markdown",
      "metadata": {
        "id": "kTgKwfmP_hmR"
      },
      "source": [
        "## Task 2 (5 points)\n",
        "Please also convert your MR Job Class in Task 1 into a stand-alone `BDM_HW2.py` file that can be run directly with `python` similar to our Lab 3."
      ]
    },
    {
      "cell_type": "code",
      "metadata": {
        "id": "gNfYxI78_gdh"
      },
      "source": [
        "!python BDM_HW2.py enron_mails_small.csv"
      ],
      "execution_count": null,
      "outputs": []
    }
  ]
}